{
 "cells": [
  {
   "cell_type": "code",
   "execution_count": 11,
   "metadata": {
    "colab": {},
    "colab_type": "code",
    "collapsed": true,
    "id": "2TDk2odfwr75",
    "scrolled": true
   },
   "outputs": [],
   "source": [
    "import torch\n",
    "import torchvision\n",
    "import torch.utils.data as Data\n",
    "import torch.nn as nn\n",
    "import torch.nn.functional as F\n",
    "from matplotlib import pyplot as plt\n",
    "import numpy as np\n",
    "import random \n",
    " \n",
    "%matplotlib inline\n",
    "import time"
   ]
  },
  {
   "cell_type": "code",
   "execution_count": 13,
   "metadata": {
    "colab": {},
    "colab_type": "code",
    "collapsed": true,
    "id": "Mj_CeMxyU2Nk",
    "scrolled": true
   },
   "outputs": [],
   "source": [
    "#from google.colab import drive\n",
    "#drive.mount('/content/drive/')  # 将google硬盘挂载在/comtent/drive/目录上面"
   ]
  },
  {
   "cell_type": "code",
   "execution_count": 14,
   "metadata": {
    "colab": {},
    "colab_type": "code",
    "collapsed": true,
    "id": "hGNqPBtbSdhx",
    "scrolled": true
   },
   "outputs": [],
   "source": [
    "device = torch.device('cuda' if torch.cuda.is_available() else 'cpu')"
   ]
  },
  {
   "cell_type": "code",
   "execution_count": 16,
   "metadata": {
    "colab": {},
    "colab_type": "code",
    "collapsed": true,
    "id": "EJG3EEhXsscY",
    "scrolled": true
   },
   "outputs": [],
   "source": [
    "#数据文件夹\n",
    "#data_path='/content/drive/My Drive/data'\n",
    "data_path='./mnist'\n",
    "#模型文件夹\n",
    "#model_path='/content/drive/My Drive/saved_ave_model.pt'\n",
    "model_path='./saved_ave_model.pt'"
   ]
  },
  {
   "cell_type": "code",
   "execution_count": 22,
   "metadata": {
    "colab": {},
    "colab_type": "code",
    "collapsed": true,
    "id": "--T5att_wufr",
    "scrolled": true
   },
   "outputs": [],
   "source": [
    "# 超参数\n",
    "#批次大小\n",
    "BATCH_SIZE = 64\n",
    "#学习率\n",
    "LEARNING_RATE = 0.001\n",
    "#总批次\n",
    "EPOCH_NUM = 5\n",
    "#每个几批次记录准确率\n",
    "RECORD_EPOCH_NUM=10"
   ]
  },
  {
   "cell_type": "code",
   "execution_count": 6,
   "metadata": {
    "colab": {
     "base_uri": "https://localhost:8080/",
     "height": 289
    },
    "colab_type": "code",
    "collapsed": true,
    "id": "dTa_v_fYwyGO",
    "outputId": "042d6f3e-43e9-47b4-8a24-290be99169c0"
   },
   "outputs": [
    {
     "name": "stderr",
     "output_type": "stream",
     "text": [
      "\r",
      "0it [00:00, ?it/s]"
     ]
    },
    {
     "name": "stdout",
     "output_type": "stream",
     "text": [
      "Downloading http://fashion-mnist.s3-website.eu-central-1.amazonaws.com/train-images-idx3-ubyte.gz to /content/drive/My Drive/data/FashionMNIST/raw/train-images-idx3-ubyte.gz\n"
     ]
    },
    {
     "name": "stderr",
     "output_type": "stream",
     "text": [
      "26427392it [00:01, 14721163.38it/s]                             \n"
     ]
    },
    {
     "name": "stdout",
     "output_type": "stream",
     "text": [
      "Extracting /content/drive/My Drive/data/FashionMNIST/raw/train-images-idx3-ubyte.gz to /content/drive/My Drive/data/FashionMNIST/raw\n"
     ]
    },
    {
     "name": "stderr",
     "output_type": "stream",
     "text": [
      "\r",
      "0it [00:00, ?it/s]"
     ]
    },
    {
     "name": "stdout",
     "output_type": "stream",
     "text": [
      "Downloading http://fashion-mnist.s3-website.eu-central-1.amazonaws.com/train-labels-idx1-ubyte.gz to /content/drive/My Drive/data/FashionMNIST/raw/train-labels-idx1-ubyte.gz\n"
     ]
    },
    {
     "name": "stderr",
     "output_type": "stream",
     "text": [
      "32768it [00:00, 96920.41it/s]            \n",
      "0it [00:00, ?it/s]"
     ]
    },
    {
     "name": "stdout",
     "output_type": "stream",
     "text": [
      "Extracting /content/drive/My Drive/data/FashionMNIST/raw/train-labels-idx1-ubyte.gz to /content/drive/My Drive/data/FashionMNIST/raw\n",
      "Downloading http://fashion-mnist.s3-website.eu-central-1.amazonaws.com/t10k-images-idx3-ubyte.gz to /content/drive/My Drive/data/FashionMNIST/raw/t10k-images-idx3-ubyte.gz\n"
     ]
    },
    {
     "name": "stderr",
     "output_type": "stream",
     "text": [
      "4423680it [00:01, 4276175.88it/s]                             \n",
      "0it [00:00, ?it/s]"
     ]
    },
    {
     "name": "stdout",
     "output_type": "stream",
     "text": [
      "Extracting /content/drive/My Drive/data/FashionMNIST/raw/t10k-images-idx3-ubyte.gz to /content/drive/My Drive/data/FashionMNIST/raw\n",
      "Downloading http://fashion-mnist.s3-website.eu-central-1.amazonaws.com/t10k-labels-idx1-ubyte.gz to /content/drive/My Drive/data/FashionMNIST/raw/t10k-labels-idx1-ubyte.gz\n"
     ]
    },
    {
     "name": "stderr",
     "output_type": "stream",
     "text": [
      "8192it [00:00, 33707.13it/s]            \n"
     ]
    },
    {
     "name": "stdout",
     "output_type": "stream",
     "text": [
      "Extracting /content/drive/My Drive/data/FashionMNIST/raw/t10k-labels-idx1-ubyte.gz to /content/drive/My Drive/data/FashionMNIST/raw\n",
      "Processing...\n",
      "Done!\n"
     ]
    }
   ],
   "source": [
    "# 数据准备\n",
    "# torchvision.datasets.FashionMNIST(root, train=True, transform=None, target_transform=None, download=False)\n",
    "train_data = torchvision.datasets.FashionMNIST(\n",
    "    root=data_path,\n",
    "    train=True,\n",
    "    transform=torchvision.transforms.ToTensor(),\n",
    "    download=True\n",
    ")"
   ]
  },
  {
   "cell_type": "code",
   "execution_count": 18,
   "metadata": {
    "colab": {},
    "colab_type": "code",
    "collapsed": true,
    "id": "6R-KH_35qZkm",
    "scrolled": true
   },
   "outputs": [],
   "source": [
    "train_loader = Data.DataLoader(\n",
    "    dataset=train_data,\n",
    "    batch_size=BATCH_SIZE,\n",
    "    shuffle=True\n",
    ")"
   ]
  },
  {
   "cell_type": "code",
   "execution_count": 19,
   "metadata": {
    "colab": {},
    "colab_type": "code",
    "collapsed": true,
    "id": "vfPMYDczw7iA",
    "scrolled": true
   },
   "outputs": [],
   "source": [
    "# 网络构建\n",
    "class VAE(nn.Module):\n",
    "    def __init__(self,nf):\n",
    "        super(VAE, self).__init__()\n",
    "        \n",
    "        self.encode_conv1 = nn.Sequential(nn.Conv2d(in_channels=1,out_channels=nf,kernel_size=3,stride=1,padding=0),\n",
    "            nn.ReLU()\n",
    "        )\n",
    "        self.encode_conv2 = nn.Sequential(nn.Conv2d(in_channels=nf,out_channels=2*nf,kernel_size=3,stride=1,padding=0),\n",
    "            nn.ReLU()\n",
    "        )\n",
    "        self.encode_conv3 = nn.Sequential(nn.Conv2d(in_channels=2*nf,out_channels=4*nf,kernel_size=3,stride=1,padding=0),\n",
    "            nn.ReLU()\n",
    "        )\n",
    "           \n",
    "        self.encode_fc = nn.Linear(512, 256)\n",
    "        self.encode_out = nn.Linear(256, 10)\n",
    "        \n",
    "        \n",
    "        self.decode_in = nn.Linear(10,256)\n",
    "        self.decode_fc = nn.Linear(256,512)\n",
    "\n",
    "        self.decode_conv1 = nn.Sequential(\n",
    "            nn.ConvTranspose2d(in_channels=4*nf,out_channels=2*nf,kernel_size=3,stride=1,padding=0),\n",
    "            nn.ReLU()\n",
    "        )\n",
    "               \n",
    "        self.decode_conv2 = nn.Sequential(\n",
    "            nn.ConvTranspose2d(in_channels=2*nf,out_channels=nf,kernel_size=3,stride=1,padding=0),\n",
    "            nn.ReLU()\n",
    "        )\n",
    "       \n",
    "        self.decode_conv3 = nn.Sequential(\n",
    "            nn.ConvTranspose2d(in_channels=nf,out_channels=1,kernel_size=3,stride=1,padding=0),\n",
    "            nn.ReLU()\n",
    "        )\n",
    "\n",
    "    def encode(self, x):\n",
    "        self.encode_l2=0\n",
    "        #print(x.size())\n",
    "\n",
    "        c = self.encode_conv1(x)\n",
    "        #self.encode_l2+=torch.norm(self.encode_conv1.nn.weight).item()\n",
    "        \n",
    "        #print(\"encode_conv1\")\n",
    "        #print(c.size())\n",
    "        \n",
    "        c = self.encode_conv2(c)\n",
    "        #self.encode_l2+=torch.norm(self.encode_conv2.nn.weight).item()\n",
    "        #print(\"encode_conv2\")\n",
    "        #print(c.size())\n",
    "\n",
    "        c = self.encode_conv3(c)\n",
    "        #self.encode_l2+=torch.norm(self.encode_conv3.nn.weight).item()\n",
    "        #print(\"encode_conv3\")\n",
    "        #print(c.size())\n",
    "\n",
    "        c = c.view(-1, 512)\n",
    "        #print(\"c.view(-1, 512)\")\n",
    "        #print(c.size())\n",
    "\n",
    "        c=self.encode_fc(c)\n",
    "        #print(\"encode_fc\")\n",
    "        #print(c.size())\n",
    "        self.encode_l2+=torch.norm(self.encode_fc.weight).item()\n",
    "        \n",
    "        output = self.encode_out(c)\n",
    "        #print(\"encode_out\")\n",
    "        #print(c.size())\n",
    "\n",
    "        self.encode_l2+=torch.norm(self.encode_out.weight).item()\n",
    "        self.encode_l2=self.encode_l2/2\n",
    "\n",
    "        return F.softmax(output)\n",
    "        \n",
    "    def decode(self, z):\n",
    "        #print(z.size())\n",
    "        \n",
    "        z = F.softmax(self.decode_in(z))#[10,256]->[256,512]\n",
    "        #print(\"decode_in\")\n",
    "        #print(z.size())\n",
    "\n",
    "        z=self.decode_fc(z)#[256,512]->[64, 128, 22, 22]\n",
    "        #print(\"decode_fc\")\n",
    "        #print(z.size())\n",
    "\n",
    "        z = z.view(-1,128,22,22)\n",
    "        z = self.decode_conv1(z)#[64, 64, 24, 24]\n",
    "        #print(\"decode_conv1\")\n",
    "        #print(z.size())\n",
    "\n",
    "        \n",
    "        z = self.decode_conv2(z)#[64, 32, 26, 26]\n",
    "        #print(\"decode_conv2\")\n",
    "        #print(z.size())\n",
    "        \n",
    "        z = self.decode_conv3(z)#[64, 1, 28, 28]\n",
    "        #print(\"decode_conv3\")\n",
    "        #print(z.size())\n",
    "\n",
    "        return z\n",
    "\n",
    "    def forward(self, x):\n",
    "        z=self.encode(x)\n",
    "        x_reconst=self.decode(z)\n",
    "        return x_reconst\n"
   ]
  },
  {
   "cell_type": "code",
   "execution_count": 20,
   "metadata": {
    "colab": {},
    "colab_type": "code",
    "collapsed": true,
    "id": "4ophwjvvxEan"
   },
   "outputs": [
    {
     "name": "stdout",
     "output_type": "stream",
     "text": [
      "VAE(\n",
      "  (encode_conv1): Sequential(\n",
      "    (0): Conv2d(1, 32, kernel_size=(3, 3), stride=(1, 1))\n",
      "    (1): ReLU()\n",
      "  )\n",
      "  (encode_conv2): Sequential(\n",
      "    (0): Conv2d(32, 64, kernel_size=(3, 3), stride=(1, 1))\n",
      "    (1): ReLU()\n",
      "  )\n",
      "  (encode_conv3): Sequential(\n",
      "    (0): Conv2d(64, 128, kernel_size=(3, 3), stride=(1, 1))\n",
      "    (1): ReLU()\n",
      "  )\n",
      "  (encode_fc): Linear(in_features=512, out_features=256, bias=True)\n",
      "  (encode_out): Linear(in_features=256, out_features=10, bias=True)\n",
      "  (decode_in): Linear(in_features=10, out_features=256, bias=True)\n",
      "  (decode_fc): Linear(in_features=256, out_features=512, bias=True)\n",
      "  (decode_conv1): Sequential(\n",
      "    (0): ConvTranspose2d(128, 64, kernel_size=(3, 3), stride=(1, 1))\n",
      "    (1): ReLU()\n",
      "  )\n",
      "  (decode_conv2): Sequential(\n",
      "    (0): ConvTranspose2d(64, 32, kernel_size=(3, 3), stride=(1, 1))\n",
      "    (1): ReLU()\n",
      "  )\n",
      "  (decode_conv3): Sequential(\n",
      "    (0): ConvTranspose2d(32, 1, kernel_size=(3, 3), stride=(1, 1))\n",
      "    (1): ReLU()\n",
      "  )\n",
      ")\n"
     ]
    }
   ],
   "source": [
    "# 网络新建与训练\n",
    "vae = VAE(32)\n",
    "# 修改2：给网络设置cuda\n",
    "vae.to(device)\n",
    "print(vae)"
   ]
  },
  {
   "cell_type": "code",
   "execution_count": 21,
   "metadata": {
    "colab": {},
    "colab_type": "code",
    "collapsed": true,
    "id": "hQirzyVAxHm0",
    "scrolled": true
   },
   "outputs": [],
   "source": [
    "optimizer = torch.optim.Adam(vae.parameters(), lr=LEARNING_RATE)\n",
    "loss_func = F.binary_cross_entropy"
   ]
  },
  {
   "cell_type": "code",
   "execution_count": 23,
   "metadata": {
    "colab": {},
    "colab_type": "code",
    "collapsed": true,
    "id": "E2sa-UcRxN1Z"
   },
   "outputs": [
    {
     "name": "stderr",
     "output_type": "stream",
     "text": [
      "d:\\Python\\Anaconda3\\lib\\site-packages\\ipykernel_launcher.py:74: UserWarning: Implicit dimension choice for softmax has been deprecated. Change the call to include dim=X as an argument.\n",
      "d:\\Python\\Anaconda3\\lib\\site-packages\\ipykernel_launcher.py:79: UserWarning: Implicit dimension choice for softmax has been deprecated. Change the call to include dim=X as an argument.\n"
     ]
    },
    {
     "name": "stdout",
     "output_type": "stream",
     "text": [
      "Epoch[1/5], Step [10/938], Reconst Loss: 0.5679\n",
      "5.541502475738525\n",
      "Epoch[1/5], Step [20/938], Reconst Loss: 0.5438\n",
      "5.555341899394989\n",
      "Epoch[1/5], Step [30/938], Reconst Loss: 0.5132\n",
      "5.627194404602051\n",
      "Epoch[1/5], Step [40/938], Reconst Loss: 0.5298\n",
      "5.744071781635284\n",
      "Epoch[1/5], Step [50/938], Reconst Loss: 0.5064\n",
      "5.940576553344727\n",
      "Epoch[1/5], Step [60/938], Reconst Loss: 0.5070\n",
      "6.158000946044922\n",
      "Epoch[1/5], Step [70/938], Reconst Loss: 0.4844\n",
      "6.41341245174408\n",
      "Epoch[1/5], Step [80/938], Reconst Loss: 0.4733\n",
      "6.673659086227417\n",
      "Epoch[1/5], Step [90/938], Reconst Loss: 0.4780\n",
      "6.94135308265686\n",
      "Epoch[1/5], Step [100/938], Reconst Loss: 0.4216\n",
      "7.169924259185791\n"
     ]
    },
    {
     "ename": "RuntimeError",
     "evalue": "Assertion `x >= 0. && x <= 1.' failed. input value should be between 0~1, but got 1.002522 at C:\\w\\1\\s\\tmp_conda_3.6_014803\\conda\\conda-bld\\pytorch_1565315401686\\work\\aten\\src\\THNN/generic/BCECriterion.c:62",
     "output_type": "error",
     "traceback": [
      "\u001b[1;31m---------------------------------------------------------------------------\u001b[0m",
      "\u001b[1;31mRuntimeError\u001b[0m                              Traceback (most recent call last)",
      "\u001b[1;32m<ipython-input-23-f9ada05023f5>\u001b[0m in \u001b[0;36m<module>\u001b[1;34m()\u001b[0m\n\u001b[0;32m      9\u001b[0m         \u001b[1;31m# 反向传播与优化\u001b[0m\u001b[1;33m\u001b[0m\u001b[1;33m\u001b[0m\u001b[0m\n\u001b[0;32m     10\u001b[0m         \u001b[1;31m# 计算误差\u001b[0m\u001b[1;33m\u001b[0m\u001b[1;33m\u001b[0m\u001b[0m\n\u001b[1;32m---> 11\u001b[1;33m         \u001b[0mloss\u001b[0m \u001b[1;33m=\u001b[0m \u001b[0mloss_func\u001b[0m\u001b[1;33m(\u001b[0m\u001b[0mx_reconst\u001b[0m\u001b[1;33m,\u001b[0m \u001b[0mb_x\u001b[0m\u001b[1;33m.\u001b[0m\u001b[0mto\u001b[0m\u001b[1;33m(\u001b[0m\u001b[0mdevice\u001b[0m\u001b[1;33m)\u001b[0m\u001b[1;33m)\u001b[0m\u001b[1;33m\u001b[0m\u001b[0m\n\u001b[0m\u001b[0;32m     12\u001b[0m \u001b[1;33m\u001b[0m\u001b[0m\n\u001b[0;32m     13\u001b[0m         \u001b[1;31m# 清空上一步的残余更新参数值\u001b[0m\u001b[1;33m\u001b[0m\u001b[1;33m\u001b[0m\u001b[0m\n",
      "\u001b[1;32md:\\Python\\Anaconda3\\lib\\site-packages\\torch\\nn\\functional.py\u001b[0m in \u001b[0;36mbinary_cross_entropy\u001b[1;34m(input, target, weight, size_average, reduce, reduction)\u001b[0m\n\u001b[0;32m   2049\u001b[0m \u001b[1;33m\u001b[0m\u001b[0m\n\u001b[0;32m   2050\u001b[0m     return torch._C._nn.binary_cross_entropy(\n\u001b[1;32m-> 2051\u001b[1;33m         input, target, weight, reduction_enum)\n\u001b[0m\u001b[0;32m   2052\u001b[0m \u001b[1;33m\u001b[0m\u001b[0m\n\u001b[0;32m   2053\u001b[0m \u001b[1;33m\u001b[0m\u001b[0m\n",
      "\u001b[1;31mRuntimeError\u001b[0m: Assertion `x >= 0. && x <= 1.' failed. input value should be between 0~1, but got 1.002522 at C:\\w\\1\\s\\tmp_conda_3.6_014803\\conda\\conda-bld\\pytorch_1565315401686\\work\\aten\\src\\THNN/generic/BCECriterion.c:62"
     ]
    }
   ],
   "source": [
    "t1 = time.time()\n",
    "encode_l2_list=[]\n",
    "epoch_list=[]\n",
    "for epoch in range(1,EPOCH_NUM+1):\n",
    "    for i, (b_x, _) in enumerate(train_loader):\n",
    "        #print(b_x.size())\n",
    "        x_reconst = vae(b_x.to(device))\n",
    "\n",
    "        # 反向传播与优化\n",
    "        # 计算误差\n",
    "        loss = loss_func(x_reconst, b_x.to(device))\n",
    "\n",
    "        # 清空上一步的残余更新参数值\n",
    "        optimizer.zero_grad()\n",
    "\n",
    "        # 误差反向传播, 计算参数更新值\n",
    "        loss.backward()\n",
    "\n",
    "        # 将参数更新值施加到 VAE model 的 parameters 上\n",
    "        optimizer.step()\n",
    "\n",
    "        # 每迭代一定步骤，打印结果值\n",
    "        if (i + 1) % 10 == 0:\n",
    "            print (\"Epoch[{}/{}], Step [{}/{}], Reconst Loss: {:.4f}\"\n",
    "                .format(epoch, EPOCH_NUM, i+1, len(train_loader), loss.item()))\n",
    "            print(vae.encode_l2)\n",
    "    encode_l2.append(vae.encode_l2)\n",
    "    epoch_list.append(epoch)\n",
    "            \n",
    "#保存模型\n",
    "torch.save(vae.state_dict(), model_path)\n",
    "plt.cla()\n",
    "plt.plot(epoch_list, encode_l2, c='red', label='L2')\n",
    "plt.pause(0.1)"
   ]
  },
  {
   "cell_type": "code",
   "execution_count": 25,
   "metadata": {},
   "outputs": [],
   "source": [
    "# 获取一批次图像\n",
    "dataiter = iter(train_loader)\n",
    "b_x,labels = dataiter.next()"
   ]
  },
  {
   "cell_type": "code",
   "execution_count": 26,
   "metadata": {
    "scrolled": true
   },
   "outputs": [
    {
     "name": "stderr",
     "output_type": "stream",
     "text": [
      "d:\\Python\\Anaconda3\\lib\\site-packages\\ipykernel_launcher.py:74: UserWarning: Implicit dimension choice for softmax has been deprecated. Change the call to include dim=X as an argument.\n",
      "d:\\Python\\Anaconda3\\lib\\site-packages\\ipykernel_launcher.py:79: UserWarning: Implicit dimension choice for softmax has been deprecated. Change the call to include dim=X as an argument.\n"
     ]
    }
   ],
   "source": [
    "#重建给批次图像\n",
    "x_reconst = vae(b_x.to(device))"
   ]
  },
  {
   "cell_type": "code",
   "execution_count": 36,
   "metadata": {},
   "outputs": [],
   "source": [
    "#显示一张图像及其重建图像\n",
    "def show(x,x_reconst):\n",
    "    fig=plt.figure()\n",
    "    ax = fig.add_subplot(121)\n",
    "    ax.imshow(np.squeeze(x), cmap='gray')\n",
    "\n",
    "    ax = fig.add_subplot(122)\n",
    "    ax.imshow(np.squeeze(x_reconst), cmap='gray')"
   ]
  },
  {
   "cell_type": "code",
   "execution_count": 29,
   "metadata": {},
   "outputs": [],
   "source": [
    "#将图像及其重建图像转换成numpy格式\n",
    "x_reconst_np=x_reconst.detach().numpy()\n",
    "b_x_np=b_x.detach().numpy()"
   ]
  },
  {
   "cell_type": "code",
   "execution_count": 38,
   "metadata": {},
   "outputs": [
    {
     "data": {
      "image/png": "[encoded data removed]",
      "text/plain": [
       "<matplotlib.figure.Figure at 0x1dd196572e8>"
      ]
     },
     "metadata": {},
     "output_type": "display_data"
    },
    {
     "data": {
      "image/png": "[encoded data removed]",
      "text/plain": [
       "<matplotlib.figure.Figure at 0x1dd1963c048>"
      ]
     },
     "metadata": {},
     "output_type": "display_data"
    },
    {
     "data": {
      "image/png": "[encoded data removed]",
      "text/plain": [
       "<matplotlib.figure.Figure at 0x1dd19223080>"
      ]
     },
     "metadata": {},
     "output_type": "display_data"
    }
   ],
   "source": [
    "#显示3张图像及其重建图像\n",
    "for i in range(3):\n",
    "    show(b_x_np[i],x_reconst_np[i])"
   ]
  }
 ],
 "metadata": {
  "colab": {
   "collapsed_sections": [],
   "name": "VAE2.ipynb",
   "provenance": []
  },
  "kernelspec": {
   "display_name": "Python 3",
   "language": "python",
   "name": "python3"
  },
  "language_info": {
   "codemirror_mode": {
    "name": "ipython",
    "version": 3
   },
   "file_extension": ".py",
   "mimetype": "text/x-python",
   "name": "python",
   "nbconvert_exporter": "python",
   "pygments_lexer": "ipython3",
   "version": "3.7.3"
  }
 },
 "nbformat": 4,
 "nbformat_minor": 1
}
